{
 "cells": [
  {
   "cell_type": "code",
   "execution_count": 24,
   "metadata": {},
   "outputs": [
    {
     "ename": "ModuleNotFoundError",
     "evalue": "No module named 'optuna'",
     "output_type": "error",
     "traceback": [
      "\u001b[1;31m---------------------------------------------------------------------------\u001b[0m",
      "\u001b[1;31mModuleNotFoundError\u001b[0m                       Traceback (most recent call last)",
      "\u001b[1;32m<ipython-input-24-e635017beef9>\u001b[0m in \u001b[0;36m<module>\u001b[1;34m\u001b[0m\n\u001b[0;32m     13\u001b[0m \u001b[1;32mfrom\u001b[0m \u001b[0mcatboost\u001b[0m \u001b[1;32mimport\u001b[0m \u001b[0mCatBoostClassifier\u001b[0m\u001b[1;33m\u001b[0m\u001b[1;33m\u001b[0m\u001b[0m\n\u001b[0;32m     14\u001b[0m \u001b[1;32mfrom\u001b[0m \u001b[0mxgboost\u001b[0m \u001b[1;32mimport\u001b[0m \u001b[0mXGBClassifier\u001b[0m\u001b[1;33m\u001b[0m\u001b[1;33m\u001b[0m\u001b[0m\n\u001b[1;32m---> 15\u001b[1;33m \u001b[1;32mimport\u001b[0m \u001b[0moptuna\u001b[0m\u001b[1;33m\u001b[0m\u001b[1;33m\u001b[0m\u001b[0m\n\u001b[0m\u001b[0;32m     16\u001b[0m \u001b[1;33m\u001b[0m\u001b[0m\n\u001b[0;32m     17\u001b[0m \u001b[0mprint\u001b[0m\u001b[1;33m(\u001b[0m\u001b[1;34m'done'\u001b[0m\u001b[1;33m)\u001b[0m\u001b[1;33m\u001b[0m\u001b[1;33m\u001b[0m\u001b[0m\n",
      "\u001b[1;31mModuleNotFoundError\u001b[0m: No module named 'optuna'"
     ]
    }
   ],
   "source": [
    "import pandas as pd\n",
    "import matplotlib as mpl\n",
    "import matplotlib.pyplot as plt\n",
    "import seaborn as sns\n",
    "import numpy as np\n",
    "from scipy import stats\n",
    "from sklearn.impute import KNNImputer,SimpleImputer\n",
    "kn  = KNNImputer(n_neighbors=10)\n",
    "%matplotlib inline\n",
    "from sklearn.model_selection import train_test_split, StratifiedKFold\n",
    "from sklearn.metrics import log_loss\n",
    "from sklearn.ensemble import RandomForestClassifier, ExtraTreesClassifier\n",
    "from catboost import CatBoostClassifier\n",
    "from xgboost import XGBClassifier\n",
    "\n",
    "\n",
    "print('done')"
   ]
  },
  {
   "cell_type": "code",
   "execution_count": 23,
   "metadata": {},
   "outputs": [
    {
     "name": "stdout",
     "output_type": "stream",
     "text": [
      "Collecting catboostNote: you may need to restart the kernel to use updated packages.\n",
      "  Downloading catboost-0.26.1-cp38-none-win_amd64.whl (68.0 MB)\n",
      "Requirement already satisfied: scipy in c:\\users\\admin\\anaconda3\\lib\\site-packages (from catboost) (1.5.2)\n",
      "Collecting plotly\n",
      "  Downloading plotly-5.2.1-py2.py3-none-any.whl (21.8 MB)\n",
      "Requirement already satisfied: six in c:\\users\\admin\\anaconda3\\lib\\site-packages (from catboost) (1.15.0)\n",
      "Requirement already satisfied: numpy>=1.16.0 in c:\\users\\admin\\anaconda3\\lib\\site-packages (from catboost) (1.19.2)\n",
      "Requirement already satisfied: matplotlib in c:\\users\\admin\\anaconda3\\lib\\site-packages (from catboost) (3.3.2)\n",
      "Collecting graphviz\n",
      "  Downloading graphviz-0.17-py3-none-any.whl (18 kB)\n",
      "Requirement already satisfied: pandas>=0.24.0 in c:\\users\\admin\\anaconda3\\lib\\site-packages (from catboost) (1.1.3)\n",
      "Collecting tenacity>=6.2.0\n",
      "  Downloading tenacity-8.0.1-py3-none-any.whl (24 kB)\n",
      "Requirement already satisfied: kiwisolver>=1.0.1 in c:\\users\\admin\\anaconda3\\lib\\site-packages (from matplotlib->catboost) (1.3.0)\n",
      "Requirement already satisfied: cycler>=0.10 in c:\\users\\admin\\anaconda3\\lib\\site-packages (from matplotlib->catboost) (0.10.0)\n",
      "Requirement already satisfied: certifi>=2020.06.20 in c:\\users\\admin\\anaconda3\\lib\\site-packages (from matplotlib->catboost) (2020.6.20)\n",
      "Requirement already satisfied: python-dateutil>=2.1 in c:\\users\\admin\\anaconda3\\lib\\site-packages (from matplotlib->catboost) (2.8.1)\n",
      "Requirement already satisfied: pyparsing!=2.0.4,!=2.1.2,!=2.1.6,>=2.0.3 in c:\\users\\admin\\anaconda3\\lib\\site-packages (from matplotlib->catboost) (2.4.7)\n",
      "Requirement already satisfied: pillow>=6.2.0 in c:\\users\\admin\\anaconda3\\lib\\site-packages (from matplotlib->catboost) (8.0.1)\n",
      "Requirement already satisfied: pytz>=2017.2 in c:\\users\\admin\\anaconda3\\lib\\site-packages (from pandas>=0.24.0->catboost) (2020.1)\n",
      "Installing collected packages: tenacity, plotly, graphviz, catboost\n",
      "Successfully installed catboost-0.26.1 graphviz-0.17 plotly-5.2.1 tenacity-8.0.1\n",
      "\n"
     ]
    }
   ],
   "source": [
    "pip install catboost"
   ]
  },
  {
   "cell_type": "code",
   "execution_count": 2,
   "metadata": {},
   "outputs": [],
   "source": [
    "train = pd.read_csv(\"train.csv\")\n",
    "test = pd.read_csv(\"test.csv\")"
   ]
  },
  {
   "cell_type": "code",
   "execution_count": 3,
   "metadata": {},
   "outputs": [
    {
     "data": {
      "text/plain": [
       "Artist Name            9149\n",
       "Track Name            15129\n",
       "Popularity              100\n",
       "danceability            909\n",
       "energy                 1208\n",
       "key                      11\n",
       "loudness               9002\n",
       "mode                      2\n",
       "speechiness            1194\n",
       "acousticness           3930\n",
       "instrumentalness       4253\n",
       "liveness               1459\n",
       "valence                1320\n",
       "tempo                 13562\n",
       "duration_in min/ms    14121\n",
       "time_signature            4\n",
       "Class                    11\n",
       "dtype: int64"
      ]
     },
     "execution_count": 3,
     "metadata": {},
     "output_type": "execute_result"
    }
   ],
   "source": [
    "train.nunique()"
   ]
  },
  {
   "cell_type": "code",
   "execution_count": 4,
   "metadata": {},
   "outputs": [
    {
     "data": {
      "text/plain": [
       "Artist Name              0\n",
       "Track Name               0\n",
       "Popularity             428\n",
       "danceability             0\n",
       "energy                   0\n",
       "key                   2014\n",
       "loudness                 0\n",
       "mode                     0\n",
       "speechiness              0\n",
       "acousticness             0\n",
       "instrumentalness      4377\n",
       "liveness                 0\n",
       "valence                  0\n",
       "tempo                    0\n",
       "duration_in min/ms       0\n",
       "time_signature           0\n",
       "Class                    0\n",
       "dtype: int64"
      ]
     },
     "execution_count": 4,
     "metadata": {},
     "output_type": "execute_result"
    }
   ],
   "source": [
    "train.isnull().sum()"
   ]
  },
  {
   "cell_type": "code",
   "execution_count": 5,
   "metadata": {},
   "outputs": [],
   "source": [
    "# Preprocessing and feature extraction\n",
    "dur = train['duration_in min/ms']\n",
    "track = []\n",
    "clean = []\n",
    "for i in dur:\n",
    "    if i<=100 :\n",
    "        clean.append(i)\n",
    "        track.append(0)\n",
    "    else:\n",
    "        clean.append(i/60000)\n",
    "        track.append(1)\n",
    "train['duration_in min/ms'] = clean\n",
    "train['new1'] = track"
   ]
  },
  {
   "cell_type": "code",
   "execution_count": 6,
   "metadata": {},
   "outputs": [
    {
     "data": {
      "text/plain": [
       "14898    1\n",
       "11942    1\n",
       "2402     0\n",
       "1411     1\n",
       "15523    1\n",
       "Name: new1, dtype: int64"
      ]
     },
     "execution_count": 6,
     "metadata": {},
     "output_type": "execute_result"
    }
   ],
   "source": [
    "train['new1'].sample(5)"
   ]
  },
  {
   "cell_type": "code",
   "execution_count": 7,
   "metadata": {},
   "outputs": [
    {
     "name": "stdout",
     "output_type": "stream",
     "text": [
      "Artist Name\n",
      "False    17996\n",
      "Name: Artist Name, dtype: int64\n",
      "Track Name\n",
      "False    17996\n",
      "Name: Track Name, dtype: int64\n",
      "Popularity\n",
      "False    17568\n",
      "True       428\n",
      "Name: Popularity, dtype: int64\n",
      "danceability\n",
      "False    17996\n",
      "Name: danceability, dtype: int64\n",
      "energy\n",
      "False    17996\n",
      "Name: energy, dtype: int64\n",
      "key\n",
      "False    15982\n",
      "True      2014\n",
      "Name: key, dtype: int64\n",
      "loudness\n",
      "False    17996\n",
      "Name: loudness, dtype: int64\n",
      "mode\n",
      "False    17996\n",
      "Name: mode, dtype: int64\n",
      "speechiness\n",
      "False    17996\n",
      "Name: speechiness, dtype: int64\n",
      "acousticness\n",
      "False    17996\n",
      "Name: acousticness, dtype: int64\n",
      "instrumentalness\n",
      "False    13619\n",
      "True      4377\n",
      "Name: instrumentalness, dtype: int64\n",
      "liveness\n",
      "False    17996\n",
      "Name: liveness, dtype: int64\n",
      "valence\n",
      "False    17996\n",
      "Name: valence, dtype: int64\n",
      "tempo\n",
      "False    17996\n",
      "Name: tempo, dtype: int64\n",
      "duration_in min/ms\n",
      "False    17996\n",
      "Name: duration_in min/ms, dtype: int64\n",
      "time_signature\n",
      "False    17996\n",
      "Name: time_signature, dtype: int64\n",
      "Class\n",
      "False    17996\n",
      "Name: Class, dtype: int64\n",
      "new1\n",
      "False    17996\n",
      "Name: new1, dtype: int64\n"
     ]
    }
   ],
   "source": [
    "check_missing = train.isnull()\n",
    "for column in check_missing.columns.values.tolist():\n",
    "    print(column)\n",
    "    print(check_missing[column].value_counts())"
   ]
  },
  {
   "cell_type": "code",
   "execution_count": null,
   "metadata": {},
   "outputs": [],
   "source": []
  },
  {
   "cell_type": "code",
   "execution_count": 8,
   "metadata": {},
   "outputs": [
    {
     "data": {
      "text/plain": [
       "Artist Name              0\n",
       "Track Name               0\n",
       "Popularity             227\n",
       "danceability             0\n",
       "energy                   0\n",
       "key                    808\n",
       "loudness                 0\n",
       "mode                     0\n",
       "speechiness              0\n",
       "acousticness             0\n",
       "instrumentalness      1909\n",
       "liveness                 0\n",
       "valence                  0\n",
       "tempo                    0\n",
       "duration_in min/ms       0\n",
       "time_signature           0\n",
       "dtype: int64"
      ]
     },
     "execution_count": 8,
     "metadata": {},
     "output_type": "execute_result"
    }
   ],
   "source": [
    "test.isnull().sum()"
   ]
  },
  {
   "cell_type": "code",
   "execution_count": 9,
   "metadata": {},
   "outputs": [],
   "source": [
    "train['key']=kn.fit_transform(train[['key']])\n",
    "train['Popularity']=kn.fit_transform(train[['Popularity']])\n",
    "train.replace(to_replace = np.nan, value =0,inplace=True)"
   ]
  },
  {
   "cell_type": "code",
   "execution_count": 10,
   "metadata": {},
   "outputs": [],
   "source": [
    "test['key']=kn.fit_transform(test[['key']])\n",
    "test['Popularity']=kn.fit_transform(test[['Popularity']])\n",
    "test.replace(to_replace = np.nan, value =0,inplace=True)"
   ]
  },
  {
   "cell_type": "code",
   "execution_count": null,
   "metadata": {},
   "outputs": [],
   "source": []
  },
  {
   "cell_type": "code",
   "execution_count": 11,
   "metadata": {},
   "outputs": [
    {
     "name": "stdout",
     "output_type": "stream",
     "text": [
      "3\n"
     ]
    }
   ],
   "source": [
    "def get_digits(decimal_number):\n",
    "    #remove sign from number\n",
    "    decimal_number_absolute = abs(decimal_number)\n",
    "    #round the number to 2 decimal places\n",
    "    decimal_number_rounded = round(decimal_number_absolute,2)\n",
    "    decimal_number_string = str(decimal_number_rounded)\n",
    "    number_whole=decimal_number_string.split('.')[0]\n",
    "    number_remainder=decimal_number_string.split('.')[1]\n",
    "    return len(number_whole) + len(number_remainder)\n",
    "#test\n",
    "number = -06.659857487\n",
    "print(get_digits(number))"
   ]
  },
  {
   "cell_type": "code",
   "execution_count": 12,
   "metadata": {},
   "outputs": [],
   "source": [
    "# Preprocessing and feature extraction\n",
    "dur = test['duration_in min/ms']\n",
    "track = []\n",
    "clean = []\n",
    "for i in dur:\n",
    "    if i<=100 :\n",
    "        clean.append(i)\n",
    "        track.append(0)\n",
    "    else:\n",
    "        clean.append(i/60000)\n",
    "        track.append(1)\n",
    "test['duration_in min/ms'] = clean\n",
    "test['new1'] = track"
   ]
  },
  {
   "cell_type": "code",
   "execution_count": 14,
   "metadata": {},
   "outputs": [
    {
     "data": {
      "text/plain": [
       "Artist Name            9149\n",
       "Track Name            15129\n",
       "Popularity              101\n",
       "danceability            909\n",
       "energy                 1208\n",
       "key                      12\n",
       "loudness               9002\n",
       "mode                      2\n",
       "speechiness            1194\n",
       "acousticness           3930\n",
       "instrumentalness       4254\n",
       "liveness               1459\n",
       "valence                1320\n",
       "tempo                 13562\n",
       "duration_in min/ms    13868\n",
       "time_signature            4\n",
       "Class                    11\n",
       "new1                      2\n",
       "dtype: int64"
      ]
     },
     "execution_count": 14,
     "metadata": {},
     "output_type": "execute_result"
    }
   ],
   "source": [
    "train.nunique()"
   ]
  },
  {
   "cell_type": "code",
   "execution_count": 15,
   "metadata": {},
   "outputs": [
    {
     "data": {
      "text/plain": [
       "Index(['Artist Name', 'Track Name', 'Popularity', 'danceability', 'energy',\n",
       "       'key', 'loudness', 'mode', 'speechiness', 'acousticness',\n",
       "       'instrumentalness', 'liveness', 'valence', 'tempo',\n",
       "       'duration_in min/ms', 'time_signature', 'Class', 'new1'],\n",
       "      dtype='object')"
      ]
     },
     "execution_count": 15,
     "metadata": {},
     "output_type": "execute_result"
    }
   ],
   "source": [
    "train.columns"
   ]
  },
  {
   "cell_type": "code",
   "execution_count": 18,
   "metadata": {},
   "outputs": [],
   "source": [
    "cat_cols = ['Artist Name', 'Track Name']\n",
    "cont_cols = ['Popularity', 'danceability', 'energy',\n",
    "       'key', 'loudness', 'mode', 'speechiness', 'acousticness',\n",
    "       'instrumentalness', 'liveness', 'valence', 'tempo',\n",
    "       'duration_in min/ms', 'time_signature', 'new1']"
   ]
  },
  {
   "cell_type": "code",
   "execution_count": 19,
   "metadata": {},
   "outputs": [],
   "source": [
    "X_train = train[cat_cols+cont_cols]\n",
    "y_train = train.Class\n",
    "X_test = test[cat_cols+cont_cols]"
   ]
  },
  {
   "cell_type": "code",
   "execution_count": 25,
   "metadata": {},
   "outputs": [
    {
     "name": "stdout",
     "output_type": "stream",
     "text": [
      "=============== Fold No: 1 ===============\n",
      "Learning rate set to 0.047371\n",
      "0:\tlearn: 2.3037980\ttest: 2.3057627\tbest: 2.3057627 (0)\ttotal: 264ms\tremaining: 43m 58s\n",
      "500:\tlearn: 0.7796143\ttest: 0.7786168\tbest: 0.7786168 (500)\ttotal: 1m 2s\tremaining: 19m 50s\n",
      "Stopped by overfitting detector  (30 iterations wait)\n",
      "\n",
      "bestTest = 0.7627750205\n",
      "bestIteration = 946\n",
      "\n",
      "Shrink model to first 947 iterations.\n",
      "0.7627750204855843\n",
      "=============== Fold No: 2 ===============\n",
      "Learning rate set to 0.047371\n",
      "0:\tlearn: 2.3035826\ttest: 2.3077990\tbest: 2.3077990 (0)\ttotal: 119ms\tremaining: 19m 53s\n",
      "500:\tlearn: 0.7762308\ttest: 0.7790240\tbest: 0.7790240 (500)\ttotal: 1m 4s\tremaining: 20m 14s\n",
      "Stopped by overfitting detector  (30 iterations wait)\n",
      "\n",
      "bestTest = 0.7698111634\n",
      "bestIteration = 670\n",
      "\n",
      "Shrink model to first 671 iterations.\n",
      "0.7698111634218131\n",
      "=============== Fold No: 3 ===============\n",
      "Learning rate set to 0.047371\n",
      "0:\tlearn: 2.3045938\ttest: 2.3040426\tbest: 2.3040426 (0)\ttotal: 186ms\tremaining: 31m\n",
      "500:\tlearn: 0.7791369\ttest: 0.7995344\tbest: 0.7994521 (499)\ttotal: 1m 34s\tremaining: 29m 52s\n",
      "1000:\tlearn: 0.6580471\ttest: 0.7778463\tbest: 0.7777612 (998)\ttotal: 3m 12s\tremaining: 28m 52s\n",
      "Stopped by overfitting detector  (30 iterations wait)\n",
      "\n",
      "bestTest = 0.7775154612\n",
      "bestIteration = 1031\n",
      "\n",
      "Shrink model to first 1032 iterations.\n",
      "0.7775154612286497\n",
      "=============== Fold No: 4 ===============\n",
      "Learning rate set to 0.047371\n",
      "0:\tlearn: 2.3045219\ttest: 2.3021911\tbest: 2.3021911 (0)\ttotal: 191ms\tremaining: 31m 49s\n",
      "500:\tlearn: 0.7793949\ttest: 0.8444096\tbest: 0.8444096 (500)\ttotal: 1m 37s\tremaining: 30m 49s\n",
      "Stopped by overfitting detector  (30 iterations wait)\n",
      "\n",
      "bestTest = 0.8374525126\n",
      "bestIteration = 659\n",
      "\n",
      "Shrink model to first 660 iterations.\n",
      "0.8374525126356148\n",
      "=============== Fold No: 5 ===============\n",
      "Learning rate set to 0.047371\n",
      "0:\tlearn: 2.3044647\ttest: 2.3030283\tbest: 2.3030283 (0)\ttotal: 184ms\tremaining: 30m 36s\n",
      "500:\tlearn: 0.7762855\ttest: 0.8304828\tbest: 0.8302134 (496)\ttotal: 1m 4s\tremaining: 20m 19s\n",
      "Stopped by overfitting detector  (30 iterations wait)\n",
      "\n",
      "bestTest = 0.8170085425\n",
      "bestIteration = 885\n",
      "\n",
      "Shrink model to first 886 iterations.\n",
      "0.8170085425295495\n",
      "=============== Fold No: 6 ===============\n",
      "Learning rate set to 0.047371\n",
      "0:\tlearn: 2.3012405\ttest: 2.3023352\tbest: 2.3023352 (0)\ttotal: 124ms\tremaining: 20m 35s\n",
      "500:\tlearn: 0.7796808\ttest: 0.8396987\tbest: 0.8396638 (499)\ttotal: 1m 10s\tremaining: 22m 22s\n",
      "Stopped by overfitting detector  (30 iterations wait)\n",
      "\n",
      "bestTest = 0.8227419317\n",
      "bestIteration = 799\n",
      "\n",
      "Shrink model to first 800 iterations.\n",
      "0.8227419316996838\n",
      "=============== Fold No: 7 ===============\n",
      "Learning rate set to 0.047371\n",
      "0:\tlearn: 2.3044958\ttest: 2.3068264\tbest: 2.3068264 (0)\ttotal: 185ms\tremaining: 30m 46s\n",
      "500:\tlearn: 0.7745088\ttest: 0.8322762\tbest: 0.8322575 (498)\ttotal: 1m 36s\tremaining: 30m 26s\n",
      "Stopped by overfitting detector  (30 iterations wait)\n",
      "\n",
      "bestTest = 0.8219707244\n",
      "bestIteration = 815\n",
      "\n",
      "Shrink model to first 816 iterations.\n",
      "0.8219707244078075\n",
      "=============== Fold No: 8 ===============\n",
      "Learning rate set to 0.047371\n",
      "0:\tlearn: 2.3012069\ttest: 2.3038082\tbest: 2.3038082 (0)\ttotal: 166ms\tremaining: 27m 35s\n",
      "500:\tlearn: 0.7767862\ttest: 0.8459225\tbest: 0.8459225 (500)\ttotal: 1m 34s\tremaining: 29m 43s\n",
      "1000:\tlearn: 0.6534182\ttest: 0.8172005\tbest: 0.8172005 (1000)\ttotal: 2m 58s\tremaining: 26m 40s\n",
      "Stopped by overfitting detector  (30 iterations wait)\n",
      "\n",
      "bestTest = 0.815562335\n",
      "bestIteration = 1084\n",
      "\n",
      "Shrink model to first 1085 iterations.\n",
      "0.8155623349570728\n",
      "=============== Fold No: 9 ===============\n",
      "Learning rate set to 0.047371\n",
      "0:\tlearn: 2.3013997\ttest: 2.3015022\tbest: 2.3015022 (0)\ttotal: 122ms\tremaining: 20m 23s\n",
      "500:\tlearn: 0.7791122\ttest: 0.7893192\tbest: 0.7892024 (499)\ttotal: 1m 1s\tremaining: 19m 23s\n",
      "Stopped by overfitting detector  (30 iterations wait)\n",
      "\n",
      "bestTest = 0.7809790658\n",
      "bestIteration = 671\n",
      "\n",
      "Shrink model to first 672 iterations.\n",
      "0.780979065809546\n",
      "=============== Fold No: 10 ===============\n",
      "Learning rate set to 0.047371\n",
      "0:\tlearn: 2.3014914\ttest: 2.3014051\tbest: 2.3014051 (0)\ttotal: 122ms\tremaining: 20m 21s\n",
      "500:\tlearn: 0.7806693\ttest: 0.8003199\tbest: 0.8003181 (499)\ttotal: 1m 1s\tremaining: 19m 18s\n",
      "1000:\tlearn: 0.6571513\ttest: 0.7808603\tbest: 0.7808230 (997)\ttotal: 2m 2s\tremaining: 18m 24s\n",
      "Stopped by overfitting detector  (30 iterations wait)\n",
      "\n",
      "bestTest = 0.7793970378\n",
      "bestIteration = 1084\n",
      "\n",
      "Shrink model to first 1085 iterations.\n",
      "0.7793970378126605\n"
     ]
    }
   ],
   "source": [
    "n_folds = 10\n",
    "subbed = []\n",
    "kf = StratifiedKFold(n_splits=n_folds, shuffle=True, random_state=10)\n",
    "\n",
    "\n",
    "for fold, (train_idx, test_idx) in enumerate(kf.split(X_train, y_train)):\n",
    "    print('=============== Fold No:',fold+1,'===============')\n",
    "    X_tr, X_tst = X_train.iloc[train_idx], X_train.iloc[test_idx]\n",
    "    y_tr, y_tst = y_train.iloc[train_idx], y_train.iloc[test_idx]\n",
    "    \n",
    "    model = CatBoostClassifier(n_estimators=10000, random_state=10, eval_metric= 'MultiClass', cat_features=cat_cols)\n",
    "    model.fit(X_tr, y_tr,eval_set=[(X_tst, y_tst)], early_stopping_rounds=30, verbose=500)\n",
    "    print(log_loss(y_tst, model.predict_proba(X_tst)))\n",
    "    subbed.append(log_loss(y_tst, model.predict_proba(X_tst)))\n",
    "    pred = model.predict_proba(X_test)"
   ]
  },
  {
   "cell_type": "code",
   "execution_count": 26,
   "metadata": {},
   "outputs": [
    {
     "data": {
      "text/html": [
       "<div>\n",
       "<style scoped>\n",
       "    .dataframe tbody tr th:only-of-type {\n",
       "        vertical-align: middle;\n",
       "    }\n",
       "\n",
       "    .dataframe tbody tr th {\n",
       "        vertical-align: top;\n",
       "    }\n",
       "\n",
       "    .dataframe thead th {\n",
       "        text-align: right;\n",
       "    }\n",
       "</style>\n",
       "<table border=\"1\" class=\"dataframe\">\n",
       "  <thead>\n",
       "    <tr style=\"text-align: right;\">\n",
       "      <th></th>\n",
       "      <th>0</th>\n",
       "      <th>1</th>\n",
       "      <th>2</th>\n",
       "      <th>3</th>\n",
       "      <th>4</th>\n",
       "      <th>5</th>\n",
       "      <th>6</th>\n",
       "      <th>7</th>\n",
       "      <th>8</th>\n",
       "      <th>9</th>\n",
       "      <th>10</th>\n",
       "    </tr>\n",
       "  </thead>\n",
       "  <tbody>\n",
       "    <tr>\n",
       "      <th>0</th>\n",
       "      <td>0.000588</td>\n",
       "      <td>0.383374</td>\n",
       "      <td>0.010723</td>\n",
       "      <td>0.000213</td>\n",
       "      <td>0.000274</td>\n",
       "      <td>0.000825</td>\n",
       "      <td>0.138285</td>\n",
       "      <td>0.000073</td>\n",
       "      <td>0.010471</td>\n",
       "      <td>0.016986</td>\n",
       "      <td>0.438189</td>\n",
       "    </tr>\n",
       "    <tr>\n",
       "      <th>1</th>\n",
       "      <td>0.000070</td>\n",
       "      <td>0.012778</td>\n",
       "      <td>0.005247</td>\n",
       "      <td>0.000008</td>\n",
       "      <td>0.000041</td>\n",
       "      <td>0.002197</td>\n",
       "      <td>0.029505</td>\n",
       "      <td>0.000002</td>\n",
       "      <td>0.697701</td>\n",
       "      <td>0.003830</td>\n",
       "      <td>0.248621</td>\n",
       "    </tr>\n",
       "    <tr>\n",
       "      <th>2</th>\n",
       "      <td>0.000055</td>\n",
       "      <td>0.001967</td>\n",
       "      <td>0.000116</td>\n",
       "      <td>0.000008</td>\n",
       "      <td>0.000320</td>\n",
       "      <td>0.008014</td>\n",
       "      <td>0.004770</td>\n",
       "      <td>0.000006</td>\n",
       "      <td>0.004034</td>\n",
       "      <td>0.939357</td>\n",
       "      <td>0.041353</td>\n",
       "    </tr>\n",
       "    <tr>\n",
       "      <th>3</th>\n",
       "      <td>0.000236</td>\n",
       "      <td>0.003222</td>\n",
       "      <td>0.000717</td>\n",
       "      <td>0.000044</td>\n",
       "      <td>0.000127</td>\n",
       "      <td>0.021380</td>\n",
       "      <td>0.024853</td>\n",
       "      <td>0.000024</td>\n",
       "      <td>0.003094</td>\n",
       "      <td>0.892445</td>\n",
       "      <td>0.053856</td>\n",
       "    </tr>\n",
       "    <tr>\n",
       "      <th>4</th>\n",
       "      <td>0.001472</td>\n",
       "      <td>0.000274</td>\n",
       "      <td>0.000165</td>\n",
       "      <td>0.000074</td>\n",
       "      <td>0.002041</td>\n",
       "      <td>0.000306</td>\n",
       "      <td>0.000507</td>\n",
       "      <td>0.000018</td>\n",
       "      <td>0.001011</td>\n",
       "      <td>0.979992</td>\n",
       "      <td>0.014139</td>\n",
       "    </tr>\n",
       "    <tr>\n",
       "      <th>...</th>\n",
       "      <td>...</td>\n",
       "      <td>...</td>\n",
       "      <td>...</td>\n",
       "      <td>...</td>\n",
       "      <td>...</td>\n",
       "      <td>...</td>\n",
       "      <td>...</td>\n",
       "      <td>...</td>\n",
       "      <td>...</td>\n",
       "      <td>...</td>\n",
       "      <td>...</td>\n",
       "    </tr>\n",
       "    <tr>\n",
       "      <th>7708</th>\n",
       "      <td>0.000049</td>\n",
       "      <td>0.000469</td>\n",
       "      <td>0.000761</td>\n",
       "      <td>0.000008</td>\n",
       "      <td>0.000027</td>\n",
       "      <td>0.004874</td>\n",
       "      <td>0.002337</td>\n",
       "      <td>0.000005</td>\n",
       "      <td>0.000306</td>\n",
       "      <td>0.985162</td>\n",
       "      <td>0.006002</td>\n",
       "    </tr>\n",
       "    <tr>\n",
       "      <th>7709</th>\n",
       "      <td>0.000329</td>\n",
       "      <td>0.082857</td>\n",
       "      <td>0.048134</td>\n",
       "      <td>0.000058</td>\n",
       "      <td>0.000017</td>\n",
       "      <td>0.002635</td>\n",
       "      <td>0.091619</td>\n",
       "      <td>0.000157</td>\n",
       "      <td>0.340850</td>\n",
       "      <td>0.012455</td>\n",
       "      <td>0.420888</td>\n",
       "    </tr>\n",
       "    <tr>\n",
       "      <th>7710</th>\n",
       "      <td>0.107099</td>\n",
       "      <td>0.014599</td>\n",
       "      <td>0.005843</td>\n",
       "      <td>0.091240</td>\n",
       "      <td>0.041480</td>\n",
       "      <td>0.039499</td>\n",
       "      <td>0.028329</td>\n",
       "      <td>0.005147</td>\n",
       "      <td>0.001178</td>\n",
       "      <td>0.535236</td>\n",
       "      <td>0.130350</td>\n",
       "    </tr>\n",
       "    <tr>\n",
       "      <th>7711</th>\n",
       "      <td>0.000391</td>\n",
       "      <td>0.115703</td>\n",
       "      <td>0.018333</td>\n",
       "      <td>0.000045</td>\n",
       "      <td>0.000140</td>\n",
       "      <td>0.002898</td>\n",
       "      <td>0.477281</td>\n",
       "      <td>0.000042</td>\n",
       "      <td>0.000858</td>\n",
       "      <td>0.034141</td>\n",
       "      <td>0.350168</td>\n",
       "    </tr>\n",
       "    <tr>\n",
       "      <th>7712</th>\n",
       "      <td>0.000624</td>\n",
       "      <td>0.018821</td>\n",
       "      <td>0.003565</td>\n",
       "      <td>0.000055</td>\n",
       "      <td>0.000528</td>\n",
       "      <td>0.754296</td>\n",
       "      <td>0.046235</td>\n",
       "      <td>0.000012</td>\n",
       "      <td>0.003949</td>\n",
       "      <td>0.126065</td>\n",
       "      <td>0.045850</td>\n",
       "    </tr>\n",
       "  </tbody>\n",
       "</table>\n",
       "<p>7713 rows × 11 columns</p>\n",
       "</div>"
      ],
      "text/plain": [
       "            0         1         2         3         4         5         6   \\\n",
       "0     0.000588  0.383374  0.010723  0.000213  0.000274  0.000825  0.138285   \n",
       "1     0.000070  0.012778  0.005247  0.000008  0.000041  0.002197  0.029505   \n",
       "2     0.000055  0.001967  0.000116  0.000008  0.000320  0.008014  0.004770   \n",
       "3     0.000236  0.003222  0.000717  0.000044  0.000127  0.021380  0.024853   \n",
       "4     0.001472  0.000274  0.000165  0.000074  0.002041  0.000306  0.000507   \n",
       "...        ...       ...       ...       ...       ...       ...       ...   \n",
       "7708  0.000049  0.000469  0.000761  0.000008  0.000027  0.004874  0.002337   \n",
       "7709  0.000329  0.082857  0.048134  0.000058  0.000017  0.002635  0.091619   \n",
       "7710  0.107099  0.014599  0.005843  0.091240  0.041480  0.039499  0.028329   \n",
       "7711  0.000391  0.115703  0.018333  0.000045  0.000140  0.002898  0.477281   \n",
       "7712  0.000624  0.018821  0.003565  0.000055  0.000528  0.754296  0.046235   \n",
       "\n",
       "            7         8         9         10  \n",
       "0     0.000073  0.010471  0.016986  0.438189  \n",
       "1     0.000002  0.697701  0.003830  0.248621  \n",
       "2     0.000006  0.004034  0.939357  0.041353  \n",
       "3     0.000024  0.003094  0.892445  0.053856  \n",
       "4     0.000018  0.001011  0.979992  0.014139  \n",
       "...        ...       ...       ...       ...  \n",
       "7708  0.000005  0.000306  0.985162  0.006002  \n",
       "7709  0.000157  0.340850  0.012455  0.420888  \n",
       "7710  0.005147  0.001178  0.535236  0.130350  \n",
       "7711  0.000042  0.000858  0.034141  0.350168  \n",
       "7712  0.000012  0.003949  0.126065  0.045850  \n",
       "\n",
       "[7713 rows x 11 columns]"
      ]
     },
     "execution_count": 26,
     "metadata": {},
     "output_type": "execute_result"
    }
   ],
   "source": [
    "out = pd.DataFrame(pred)\n",
    "out"
   ]
  },
  {
   "cell_type": "code",
   "execution_count": 27,
   "metadata": {},
   "outputs": [],
   "source": [
    "out = out.rename(columns={0:'Acoustic/Folk_0',\n",
    "               1:'Alt_Music_1',\n",
    "               2:'Blues_2',\n",
    "               3:'Bollywood_3',\n",
    "               4:'Country_4',\n",
    "               5:'HipHop_5',\n",
    "               6:'Indie Alt_6',\n",
    "               7:'Instrumental_7',\n",
    "               8:'Metal_8',\n",
    "               9:'Pop_9',\n",
    "               10:'Rock_10'})"
   ]
  },
  {
   "cell_type": "code",
   "execution_count": 28,
   "metadata": {},
   "outputs": [],
   "source": [
    "out.to_csv('out6.csv', index= False)"
   ]
  },
  {
   "cell_type": "code",
   "execution_count": null,
   "metadata": {},
   "outputs": [],
   "source": [
    "def binningFunction(col, cut_poitns, labels=None):\n",
    "    minval = col.min()\n",
    "    maxval = col.max()\n",
    "    break_points = [minval] + cut_points + [maxval]\n",
    "    print(break_points)\n",
    "    if not labels:\n",
    "        labels = range(len(cut_points)+1)\n",
    "    colBin = pd.cut(col, bins=break_points, labels=labels,include_lowest=True)\n",
    "    return colBin"
   ]
  }
 ],
 "metadata": {
  "kernelspec": {
   "display_name": "Python 3",
   "language": "python",
   "name": "python3"
  },
  "language_info": {
   "codemirror_mode": {
    "name": "ipython",
    "version": 3
   },
   "file_extension": ".py",
   "mimetype": "text/x-python",
   "name": "python",
   "nbconvert_exporter": "python",
   "pygments_lexer": "ipython3",
   "version": "3.8.5"
  }
 },
 "nbformat": 4,
 "nbformat_minor": 4
}
